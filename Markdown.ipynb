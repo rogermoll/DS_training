{
 "cells": [
  {
   "cell_type": "markdown",
   "metadata": {},
   "source": [
    "# **Headings**\n",
    "<table>\n",
    "    <thead>\n",
    "        <tr>\n",
    "            <th colspan=\"2\">Headings</th>\n",
    "        </tr>\n",
    "    </thead>\n",
    "    <tbody>\n",
    "        <tr>\n",
    "            <td>Markdown Syntax</td>\n",
    "            <td>Visualisation</td>\n",
    "        </tr>\n",
    "        <tr>\n",
    "            <td># H1</td>\n",
    "            <td><H1>H1</H1></td>\n",
    "        </tr>\n",
    "        <tr>\n",
    "            <td># H2</td>\n",
    "            <td><H2>H2</H2></td>\n",
    "        </tr>\n",
    "        <tr>\n",
    "            <td># H3</td>\n",
    "            <td><H3>H3</H3></td>\n",
    "        </tr>\n",
    "        <tr>\n",
    "            <td># H4</td>\n",
    "            <td><H4>H4</H4></td>\n",
    "        </tr>\n",
    "        <tr>\n",
    "            <td># H5</td>\n",
    "            <td><H5>H5</H5></td>\n",
    "        </tr>\n",
    "        <tr>\n",
    "            <td># H6</td>\n",
    "            <td><H6>H6</H6></td>\n",
    "        </tr>\n",
    "    </tbody>\n",
    "</table>"
   ]
  },
  {
   "cell_type": "markdown",
   "metadata": {},
   "source": [
    "# Lists\n",
    "\n",
    "<table>\n",
    "    <thead>\n",
    "        <tr>\n",
    "            <th colspan=\"3\">Headings</th>\n",
    "        </tr>\n",
    "    </thead>\n",
    "    <tbody>\n",
    "        <tr>\n",
    "            <td>Type</td>\n",
    "            <td>Markdown Syntax</td>\n",
    "            <td>Visualisation</td>\n",
    "        </tr>\n",
    "        <tr>\n",
    "            <td>Ordered</td>\n",
    "            <td>1.<br>2.</td>\n",
    "            <td>1. Lore...<br>2. ipsum...</td>\n",
    "        </tr>\n",
    "        <tr>\n",
    "            <td>Unordered</td>\n",
    "            <td>-<br>-</td>\n",
    "            <td>1. Lore...<br>2. ipsum...</td>\n",
    "        </tr>\n",
    "    </tbody>\n",
    "</table>"
   ]
  },
  {
   "cell_type": "code",
   "execution_count": null,
   "metadata": {},
   "outputs": [],
   "source": []
  }
 ],
 "metadata": {
  "kernelspec": {
   "display_name": "Python",
   "language": "python",
   "name": "conda-env-python-py"
  },
  "language_info": {
   "codemirror_mode": {
    "name": "ipython",
    "version": 3
   },
   "file_extension": ".py",
   "mimetype": "text/x-python",
   "name": "python",
   "nbconvert_exporter": "python",
   "pygments_lexer": "ipython3",
   "version": "3.6.10"
  }
 },
 "nbformat": 4,
 "nbformat_minor": 4
}
