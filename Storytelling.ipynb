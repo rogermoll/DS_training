{
 "cells": [
  {
   "cell_type": "markdown",
   "metadata": {},
   "source": [
    "<a name='home'></a>\n",
    "# Story telling with data\n",
    "\n",
    "## Table of Content\n",
    "1. [Introduction](#intro)\n",
    "2. [The importance of context](#cont)\n",
    "3. [Choosing an effective visual](#visual)\n",
    "4. [Clutter is your enemy](#clutter)\n"
   ]
  },
  {
   "cell_type": "markdown",
   "metadata": {},
   "source": [
    "<a name=\"intro\"></a>\n",
    "## Introduction\n",
    "Spending time on the aesthetic piece, meant my work to gain more attention. \n",
    "People analytics - as an analytical team embedded in HR - ensures better people decisions e.g. target hiring, engaging and motivating employees, building effective teams and retaining talent.\n",
    "6 lessons:\n",
    "1. understanding context\n",
    "2. Choose an appropriate visual display\n",
    "3. Eliminate clutter\n",
    "4. Focus attention where you want it\n",
    "5. think like a designer\n",
    "6. Tell a story\n",
    "\n",
    "[Home](#home)"
   ]
  },
  {
   "cell_type": "markdown",
   "metadata": {},
   "source": [
    "<a name=\"cont\"></a>\n",
    "## The importance of context\n",
    "### Exploratory versus explanatory analysis\n",
    "Exploratory is what you do to understand the data and explanatory is what you want your audience to take away.\n",
    "\n",
    "Explanatory analysis:  \n",
    "1. *To Whom:* The more specific you can be about the audience, the better. This means creating different communications for different audiences.\n",
    "2. *The What:* What do you need your audience to know or to do ? Form a clear understanding of why they should care about what you say. If you are the one analysing and communicating the data, you likely know it best - you are the subject matter expert. Recommend an action or a decision.\n",
    "    * live presentations:\n",
    "    * Written documents: \n",
    "3. *The How:* What data is available that will help make the point.\n",
    "\n",
    "#### Consulting for context\n",
    "* What background information is relevant/essential\n",
    "* Who is the audience or decision maker and what do we know about them\n",
    "* What biases does our audience have that make them supportive or resistant\n",
    "* What data is available that would strengthen our case\n",
    "* Where are the risks: what would weaken our case and do we need to address them\n",
    "* What would a successful outcome look like\n",
    "* What would be your elevator speach or single sentence\n",
    "\n",
    "#### The 3min story and big idea\n",
    "Boil the \"so-what\" down to a paragraph and to a single concise statement. It must \n",
    "* articulate your unique point of view\n",
    "* convey what's at stake\n",
    "* be completed in one sentence\n",
    "\n",
    "#### Storyboarding\n",
    "The storyboard establishes a structure for your communication. It is the visual outline of the content one plans to create. Get acceptance from you client on the story flow.\n",
    "Don't start with the presentation directly: you'll get attached to the content and defend it, even if it is not addressing the audience's interest.\n",
    "\n",
    "[Home](#home)"
   ]
  },
  {
   "cell_type": "markdown",
   "metadata": {},
   "source": [
    "<a name=\"visual\"></a>\n",
    "## Choosing an effective visual\n",
    "Preferable visuals:\n",
    "* Simple text:  \n",
    "    Putting one or only a couple of numbers in a table or graph causes numbers to lose the focus. \n",
    "* Tables:  \n",
    "    Tables are great to communicate to a mixed audience whose members will look for their particular row of interest but the data should what is standing out.\n",
    "* Headmaps:  \n",
    "    A heatmap is a way to visualise data in a tabular format, where colered cells convey the relative magnitude\n",
    "* Graphs:\n",
    "    Graphs interact with our visual system which is faster in processing information. There are four subcategories:\n",
    "    1. Points:  \n",
    "        Scatterplots can be useful for showing the releationship between two things\n",
    "    2. Lines:  \n",
    "        Because the points are physically connected via the line, it implies a connection between the points. That may not make sense for categrical data.  \n",
    "        - Line graph: shows a single series of data (e.g. showing average within a range in a line graph)\n",
    "        - Slopegraph: Can be useful when to show relative increases between two time periods or points of comparison. It may not work if many of the lines are overlapping\n",
    "    3. Bars:  \n",
    "        The are common and this means less of a learning curve for your audience. It is important that bars always have a zero baseline. The bars should be wider than the white space between the bars.\n",
    "        - Vertical bar chart\n",
    "        - Stacked vertical bar chart\n",
    "        - Waterfall chart, showing a starting point, increases and decreases and the resulting end point\n",
    "        - Horizontal bar chart, helpfull with long category names\n",
    "        - stacked horizontal bar chart, can be used to show the totals accross different categories but also give a sense of the subcomponenet pieces, e.g. survey data on a likert scale\n",
    "    4. Areas  \n",
    "        Visualise values with vastly different magnitudes\n",
    "To avoid\n",
    "* Pie charts\n",
    "* Secondary y-axis  \n",
    "\n",
    "**General rule:**  \n",
    "What is the right graph for my situation ? Whatever will be easiest to read!\n",
    "\n",
    "[Home](#home)"
   ]
  },
  {
   "cell_type": "markdown",
   "metadata": {},
   "source": [
    "<a name='clutter'></a>\n",
    "## Clutter is your enemy\n",
    "\n",
    "\n",
    "[Home](#home)"
   ]
  },
  {
   "cell_type": "markdown",
   "metadata": {},
   "source": [
    "## Further reading\n",
    "* [Data point](https://www.oreilly.com/library/view/data-points-visualization/9781118654934/), Nathan Yau\n",
    "* [Show me the numbers, Stephen Few]()"
   ]
  }
 ],
 "metadata": {
  "kernelspec": {
   "display_name": "Python",
   "language": "python",
   "name": "conda-env-python-py"
  },
  "language_info": {
   "codemirror_mode": {
    "name": "ipython",
    "version": 3
   },
   "file_extension": ".py",
   "mimetype": "text/x-python",
   "name": "python",
   "nbconvert_exporter": "python",
   "pygments_lexer": "ipython3",
   "version": "3.6.10"
  }
 },
 "nbformat": 4,
 "nbformat_minor": 4
}
